{
 "cells": [
  {
   "cell_type": "code",
   "execution_count": 7,
   "id": "dc0f4d63-5555-49b6-b878-36d46997edb1",
   "metadata": {},
   "outputs": [
    {
     "name": "stdout",
     "output_type": "stream",
     "text": [
      "{'codebleu': 0.7296626522295055, 'ngram_match_score': 0.8539667315030525, 'weighted_ngram_match_score': 0.8715579239473237, 'syntax_match_score': 0.6956521739130435, 'dataflow_match_score': 0.5862068965517241}\n"
     ]
    }
   ],
   "source": [
    "from codebleu import calc_codebleu\n",
    "\n",
    "file1 = open('text1.txt', 'r')\n",
    "prediction = file1.read()\n",
    "file1.close()\n",
    "\n",
    "file2 = open('text2.txt', 'r')\n",
    "reference = file2.read()\n",
    "file2.close()\n",
    "\n",
    "result = calc_codebleu([reference], [prediction], lang=\"python\", weights=(0.2, 0.2, 0.3, 0.3), tokenizer=None)\n",
    "print(result)\n"
   ]
  },
  {
   "cell_type": "code",
   "execution_count": 15,
   "id": "b2252763",
   "metadata": {},
   "outputs": [
    {
     "name": "stdout",
     "output_type": "stream",
     "text": [
      "{'codebleu': 0.7777611958004661, 'ngram_match_score': 0.5653083574960871, 'weighted_ngram_match_score': 0.5920382913627029, 'syntax_match_score': 0.881578947368421, 'dataflow_match_score': 0.9393939393939394}\n"
     ]
    }
   ],
   "source": [
    "from codebleu import calc_codebleu\n",
    "\n",
    "file1 = open('code1.txt', 'r')\n",
    "prediction = file1.read()\n",
    "file1.close()\n",
    "\n",
    "file2 = open('code2.txt', 'r')\n",
    "reference = file2.read()\n",
    "file2.close()\n",
    "\n",
    "result = calc_codebleu([reference], [prediction], lang=\"python\", weights=(0.2, 0.2, 0.3, 0.3), tokenizer=None)\n",
    "print(result)\n"
   ]
  },
  {
   "cell_type": "code",
   "execution_count": null,
   "id": "1216d6b9",
   "metadata": {},
   "outputs": [],
   "source": []
  }
 ],
 "metadata": {
  "kernelspec": {
   "display_name": "Python 3 (ipykernel)",
   "language": "python",
   "name": "python3"
  },
  "language_info": {
   "codemirror_mode": {
    "name": "ipython",
    "version": 3
   },
   "file_extension": ".py",
   "mimetype": "text/x-python",
   "name": "python",
   "nbconvert_exporter": "python",
   "pygments_lexer": "ipython3",
   "version": "3.11.7"
  }
 },
 "nbformat": 4,
 "nbformat_minor": 5
}
